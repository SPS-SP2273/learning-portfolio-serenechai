{
 "cells": [
  {
   "cell_type": "markdown",
   "id": "123456",
   "metadata": {},
   "source": [
    "<div style=\"text-align:left;font-size:2em\"><span style=\"font-weight:bolder;font-size:1.25em\">SP2273 | Learning Portfolio</span><br><br><span style=\"font-weight:bold;color:darkred\">Using Jupyter (Need), Exercises</span></div>"
   ]
  },
  {
   "cell_type": "markdown",
   "id": "2c673eca",
   "metadata": {},
   "source": [
    "## Quadratic Equations"
   ]
  },
  {
   "cell_type": "markdown",
   "id": "85d1fb9f",
   "metadata": {},
   "source": [
    "### Introduction"
   ]
  },
  {
   "cell_type": "markdown",
   "id": "1105ff53",
   "metadata": {},
   "source": [
    "![](https://upload.wikimedia.org/wikipedia/commons/thumb/f/f8/Polynomialdeg2.svg/800px-Polynomialdeg2.svg.png)"
   ]
  },
  {
   "cell_type": "markdown",
   "id": "b85b0691",
   "metadata": {},
   "source": [
    "The general form of a quadratic equation is:"
   ]
  },
  {
   "cell_type": "markdown",
   "id": "858556d3",
   "metadata": {},
   "source": [
    "$ax^2+bx+c=0$"
   ]
  },
  {
   "cell_type": "markdown",
   "id": "58a61cdb",
   "metadata": {},
   "source": [
    "### Solutions"
   ]
  },
  {
   "cell_type": "markdown",
   "id": "99ff3ceb",
   "metadata": {},
   "source": [
    "Provided $a \\ne 0$, we can use an elementary algebraic method called [completing the square](https://en.wikipedia.org/wiki/Completing_the_square) to show that a quadratic equation has the following solution:"
   ]
  },
  {
   "cell_type": "markdown",
   "id": "730ad9f3",
   "metadata": {},
   "source": [
    "$x = \\frac{-b \\pm \\sqrt{b^2 - 4ac}}{2a}$"
   ]
  },
  {
   "cell_type": "markdown",
   "id": "7b13bcf2",
   "metadata": {},
   "source": [
    "### Discriminant"
   ]
  },
  {
   "cell_type": "markdown",
   "id": "1ac6b397",
   "metadata": {},
   "source": [
    "The quantity $\\Delta = b^2 - 4ac$ is called the **discriminant** of the equation and decides the nature of its solutions. The table below shows the various possibilities."
   ]
  },
  {
   "cell_type": "markdown",
   "id": "a16f5ce9",
   "metadata": {},
   "source": [
    "| Discriminant | Roots |\n",
    "| --- | --- |\n",
    "| $\\Delta = b² - 4ac = 0$ | A single solution of $-b/(2a)$ |\n",
    "| $\\Delta = b² - 4ac > 0$ | Two distinct solutions |\n",
    "| $\\Delta = b² - 4ac < 0$ | No real solutions; both are complex. |"
   ]
  },
  {
   "cell_type": "markdown",
   "id": "75e0c1bc",
   "metadata": {},
   "source": [
    "## Exercise 2"
   ]
  },
  {
   "cell_type": "markdown",
   "id": "875d92a4",
   "metadata": {},
   "source": [
    "1. A Git repository is a project memory which keeps track of all the changes made to files over time, who made the changes, and when. "
   ]
  },
  {
   "cell_type": "markdown",
   "id": "bd2559f9",
   "metadata": {},
   "source": [
    "2. Git keeps track of changes in the files in our repository."
   ]
  },
  {
   "cell_type": "markdown",
   "id": "6e7d760a",
   "metadata": {},
   "source": [
    "3. A commit specifies what file changes is recorded and attaches a brief description of these changes. "
   ]
  },
  {
   "cell_type": "markdown",
   "id": "ad4f88bb",
   "metadata": {},
   "source": [
    "4. A push is to share the changes made to the server using GitHub with others sharing the repository."
   ]
  },
  {
   "cell_type": "markdown",
   "id": "ae124572",
   "metadata": {},
   "source": [
    "5. A pull is to save changes from the cloud to one's local machine."
   ]
  },
  {
   "cell_type": "markdown",
   "id": "0a415466",
   "metadata": {},
   "source": [
    "6. GitHub is an online platform for the code and collaboration. However, GitHuub Desktop is a program that helps to manage codes without using the command line."
   ]
  }
 ],
 "metadata": {
  "kernelspec": {
   "display_name": "Python 3 (ipykernel)",
   "language": "python",
   "name": "python3"
  },
  "language_info": {
   "codemirror_mode": {
    "name": "ipython",
    "version": 3
   },
   "file_extension": ".py",
   "mimetype": "text/x-python",
   "name": "python",
   "nbconvert_exporter": "python",
   "pygments_lexer": "ipython3",
   "version": "3.11.5"
  },
  "toc": {
   "base_numbering": 1,
   "nav_menu": {},
   "number_sections": true,
   "sideBar": true,
   "skip_h1_title": false,
   "title_cell": "Table of Contents",
   "title_sidebar": "Contents",
   "toc_cell": false,
   "toc_position": {},
   "toc_section_display": true,
   "toc_window_display": false
  },
  "varInspector": {
   "cols": {
    "lenName": 16,
    "lenType": 16,
    "lenVar": 40
   },
   "kernels_config": {
    "python": {
     "delete_cmd_postfix": "",
     "delete_cmd_prefix": "del ",
     "library": "var_list.py",
     "varRefreshCmd": "print(var_dic_list())"
    },
    "r": {
     "delete_cmd_postfix": ") ",
     "delete_cmd_prefix": "rm(",
     "library": "var_list.r",
     "varRefreshCmd": "cat(var_dic_list()) "
    }
   },
   "types_to_exclude": [
    "module",
    "function",
    "builtin_function_or_method",
    "instance",
    "_Feature"
   ],
   "window_display": false
  },
  "vscode": {
   "interpreter": {
    "hash": "31f2aee4e71d21fbe5cf8b01ff0e069b9275f58929596ceb00d14d90e3e16cd6"
   }
  }
 },
 "nbformat": 4,
 "nbformat_minor": 5
}
