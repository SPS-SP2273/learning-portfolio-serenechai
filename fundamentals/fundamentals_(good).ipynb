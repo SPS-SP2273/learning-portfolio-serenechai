{
 "cells": [
  {
   "cell_type": "markdown",
   "id": "123456",
   "metadata": {},
   "source": [
    "<div style=\"text-align:left;font-size:2em\"><span style=\"font-weight:bolder;font-size:1.25em\">SP2273 | Learning Portfolio</span><br><br><span style=\"font-weight:bold;color:darkred\">Fundamentals (Good)</span></div>"
   ]
  },
  {
   "cell_type": "markdown",
   "id": "fe90b0d4",
   "metadata": {},
   "source": [
    "# What to expect in this chapter"
   ]
  },
  {
   "cell_type": "markdown",
   "id": "13019609",
   "metadata": {},
   "source": [
    "# 1 There is more to if"
   ]
  },
  {
   "cell_type": "code",
   "execution_count": 1,
   "id": "9395585e",
   "metadata": {},
   "outputs": [
    {
     "name": "stdout",
     "output_type": "stream",
     "text": [
      "Hello Sandy!\n"
     ]
    }
   ],
   "source": [
    "name = 'Sandy'\n",
    "\n",
    "if name == 'Sandy':\n",
    "    print('Hello Sandy!')\n",
    "elif name == 'Mr Krabs':\n",
    "    print('Hello Mr Krabs!')\n",
    "else:\n",
    "    print('Hello stranger!')"
   ]
  },
  {
   "cell_type": "markdown",
   "id": "fd410a6e",
   "metadata": {},
   "source": [
    "# 2 Asking questions"
   ]
  },
  {
   "cell_type": "code",
   "execution_count": 2,
   "id": "840fbf60",
   "metadata": {},
   "outputs": [],
   "source": [
    "fruits = ['apple', 'banana', 'pineapple', 'jackfruit']\n",
    "vegetables = ['celery', 'potato', 'broccoli', 'kale']"
   ]
  },
  {
   "cell_type": "code",
   "execution_count": 5,
   "id": "99fbbb5b",
   "metadata": {},
   "outputs": [
    {
     "data": {
      "text/plain": [
       "True"
      ]
     },
     "execution_count": 5,
     "metadata": {},
     "output_type": "execute_result"
    }
   ],
   "source": [
    "'apple' in fruits"
   ]
  },
  {
   "cell_type": "code",
   "execution_count": 6,
   "id": "916dcd80",
   "metadata": {},
   "outputs": [
    {
     "data": {
      "text/plain": [
       "False"
      ]
     },
     "execution_count": 6,
     "metadata": {},
     "output_type": "execute_result"
    }
   ],
   "source": [
    "'peach' in fruits"
   ]
  },
  {
   "cell_type": "code",
   "execution_count": 7,
   "id": "ffbb51a1",
   "metadata": {},
   "outputs": [
    {
     "data": {
      "text/plain": [
       "True"
      ]
     },
     "execution_count": 7,
     "metadata": {},
     "output_type": "execute_result"
    }
   ],
   "source": [
    "'peach' not in fruits"
   ]
  },
  {
   "cell_type": "code",
   "execution_count": 8,
   "id": "61206af6",
   "metadata": {},
   "outputs": [
    {
     "data": {
      "text/plain": [
       "True"
      ]
     },
     "execution_count": 8,
     "metadata": {},
     "output_type": "execute_result"
    }
   ],
   "source": [
    "('apple' in fruits) and ('celery' in vegetables)"
   ]
  },
  {
   "cell_type": "code",
   "execution_count": 9,
   "id": "41c71e97",
   "metadata": {},
   "outputs": [
    {
     "data": {
      "text/plain": [
       "True"
      ]
     },
     "execution_count": 9,
     "metadata": {},
     "output_type": "execute_result"
    }
   ],
   "source": [
    "'app' in 'apple'"
   ]
  },
  {
   "cell_type": "markdown",
   "id": "0e3196b9",
   "metadata": {},
   "source": [
    "# 3 Remember"
   ]
  },
  {
   "cell_type": "code",
   "execution_count": 2,
   "id": "33e342ac",
   "metadata": {},
   "outputs": [
    {
     "data": {
      "text/plain": [
       "True"
      ]
     },
     "execution_count": 2,
     "metadata": {},
     "output_type": "execute_result"
    }
   ],
   "source": [
    "'spongebob' > 'Mrs Puff'"
   ]
  },
  {
   "cell_type": "markdown",
   "id": "106ded92",
   "metadata": {},
   "source": [
    "not, in, and, or are useful keywords in asking questions"
   ]
  },
  {
   "cell_type": "markdown",
   "id": "9bb8a566",
   "metadata": {},
   "source": [
    "## 3.1 Asking Math questions"
   ]
  },
  {
   "cell_type": "code",
   "execution_count": 1,
   "id": "7dc121db",
   "metadata": {},
   "outputs": [
    {
     "data": {
      "text/plain": [
       "True"
      ]
     },
     "execution_count": 1,
     "metadata": {},
     "output_type": "execute_result"
    }
   ],
   "source": [
    "x = 5\n",
    "x > 4"
   ]
  },
  {
   "cell_type": "markdown",
   "id": "bf2fdddd",
   "metadata": {},
   "source": [
    "# 4 Python stores information in different formats or types"
   ]
  },
  {
   "cell_type": "code",
   "execution_count": 12,
   "id": "b4187815",
   "metadata": {},
   "outputs": [
    {
     "name": "stdout",
     "output_type": "stream",
     "text": [
      "1 <class 'int'>\n"
     ]
    }
   ],
   "source": [
    "x = int(1.234)\n",
    "print(x, type(x))"
   ]
  },
  {
   "cell_type": "code",
   "execution_count": 13,
   "id": "59fda91f",
   "metadata": {},
   "outputs": [
    {
     "name": "stdout",
     "output_type": "stream",
     "text": [
      "1.234 <class 'str'>\n"
     ]
    }
   ],
   "source": [
    "x = str(1.234)\n",
    "print(x, type(x))"
   ]
  },
  {
   "cell_type": "code",
   "execution_count": 14,
   "id": "438739b3",
   "metadata": {},
   "outputs": [
    {
     "name": "stdout",
     "output_type": "stream",
     "text": [
      "1.234 <class 'float'>\n"
     ]
    }
   ],
   "source": [
    "x = float(1.234)\n",
    "print(x, type(x))"
   ]
  },
  {
   "cell_type": "code",
   "execution_count": 15,
   "id": "3642248c",
   "metadata": {},
   "outputs": [
    {
     "name": "stdout",
     "output_type": "stream",
     "text": [
      "(1.234+0j) <class 'complex'>\n"
     ]
    }
   ],
   "source": [
    "x = complex(1.234)\n",
    "print(x, type(x))"
   ]
  },
  {
   "cell_type": "markdown",
   "id": "80b16892",
   "metadata": {},
   "source": [
    "# 5 Never compare floats directly"
   ]
  },
  {
   "cell_type": "markdown",
   "id": "2ce13b28",
   "metadata": {},
   "source": [
    "## 5.1 The Problem"
   ]
  },
  {
   "cell_type": "code",
   "execution_count": 16,
   "id": "b770473e",
   "metadata": {},
   "outputs": [
    {
     "data": {
      "text/plain": [
       "False"
      ]
     },
     "execution_count": 16,
     "metadata": {},
     "output_type": "execute_result"
    }
   ],
   "source": [
    "a = 0.1\n",
    "a3 = 0.3\n",
    "a * 3 == a3"
   ]
  },
  {
   "cell_type": "code",
   "execution_count": 17,
   "id": "0aa27db7",
   "metadata": {},
   "outputs": [
    {
     "data": {
      "text/plain": [
       "'0.29999999999999999'"
      ]
     },
     "execution_count": 17,
     "metadata": {},
     "output_type": "execute_result"
    }
   ],
   "source": [
    "f'{0.3:.17f}'"
   ]
  },
  {
   "cell_type": "markdown",
   "id": "618f9e72",
   "metadata": {},
   "source": [
    "## 5.2 A solution"
   ]
  },
  {
   "cell_type": "code",
   "execution_count": 18,
   "id": "d69b4e9d",
   "metadata": {},
   "outputs": [
    {
     "data": {
      "text/plain": [
       "True"
      ]
     },
     "execution_count": 18,
     "metadata": {},
     "output_type": "execute_result"
    }
   ],
   "source": [
    "eps = 1E-10\n",
    "abs(a * 3 - a3) < eps"
   ]
  },
  {
   "cell_type": "code",
   "execution_count": 19,
   "id": "7a42eb4a",
   "metadata": {},
   "outputs": [
    {
     "data": {
      "text/plain": [
       "True"
      ]
     },
     "execution_count": 19,
     "metadata": {},
     "output_type": "execute_result"
    }
   ],
   "source": [
    "np.isclose(a * 3, a3)"
   ]
  },
  {
   "cell_type": "markdown",
   "id": "c6ee76e1",
   "metadata": {},
   "source": [
    "# 6 Combining English and variables"
   ]
  },
  {
   "cell_type": "code",
   "execution_count": 6,
   "id": "186bb892",
   "metadata": {},
   "outputs": [
    {
     "name": "stdout",
     "output_type": "stream",
     "text": [
      "Hello Mermaid Man and Barnacle Boy!\n"
     ]
    }
   ],
   "source": [
    "name = \"Mermaid Man and Barnacle Boy\"\n",
    "print(f\"Hello {name}!\")"
   ]
  },
  {
   "cell_type": "code",
   "execution_count": 4,
   "id": "1ec09200",
   "metadata": {},
   "outputs": [
    {
     "name": "stdout",
     "output_type": "stream",
     "text": [
      "Hello SQUIDWARD!\n"
     ]
    }
   ],
   "source": [
    "name = \"Squidward\"\n",
    "print(f\"Hello {name.upper()}!\")"
   ]
  },
  {
   "cell_type": "code",
   "execution_count": 22,
   "id": "80f2f711",
   "metadata": {},
   "outputs": [
    {
     "name": "stdout",
     "output_type": "stream",
     "text": [
      "The value of 10 squared is 100!\n"
     ]
    }
   ],
   "source": [
    "x = 10\n",
    "print(f\"The value of {x} squared is {x**2}!\")"
   ]
  },
  {
   "cell_type": "code",
   "execution_count": 13,
   "id": "cf3bfb64",
   "metadata": {},
   "outputs": [
    {
     "name": "stdout",
     "output_type": "stream",
     "text": [
      "Who lives in a pineapple under the sea.\n"
     ]
    }
   ],
   "source": [
    "text = 'Who lives in a pineapple under the sea.'\n",
    "print(f'{text}')"
   ]
  },
  {
   "cell_type": "code",
   "execution_count": 17,
   "id": "30528def",
   "metadata": {},
   "outputs": [
    {
     "name": "stdout",
     "output_type": "stream",
     "text": [
      "           Who lives in a pineapple under the sea.\n"
     ]
    }
   ],
   "source": [
    "print(f'{text:>50}')"
   ]
  },
  {
   "cell_type": "code",
   "execution_count": 18,
   "id": "a216a1ef",
   "metadata": {},
   "outputs": [
    {
     "name": "stdout",
     "output_type": "stream",
     "text": [
      "     Who lives in a pineapple under the sea.      \n"
     ]
    }
   ],
   "source": [
    "print(f'{text:^50}')"
   ]
  },
  {
   "cell_type": "code",
   "execution_count": 19,
   "id": "8b38db57",
   "metadata": {},
   "outputs": [
    {
     "name": "stdout",
     "output_type": "stream",
     "text": [
      "Who lives in a pineapple under the sea.           \n"
     ]
    }
   ],
   "source": [
    "print(f'{text:<50}')"
   ]
  },
  {
   "cell_type": "code",
   "execution_count": 27,
   "id": "2025c373",
   "metadata": {},
   "outputs": [
    {
     "name": "stdout",
     "output_type": "stream",
     "text": [
      "The cube of pi to 6 decimal places is 31.006277\n"
     ]
    }
   ],
   "source": [
    "print(f'The cube of pi to 6 decimal places is {np.pi**3:.6f}')"
   ]
  },
  {
   "cell_type": "code",
   "execution_count": 28,
   "id": "c69f842e",
   "metadata": {},
   "outputs": [
    {
     "name": "stdout",
     "output_type": "stream",
     "text": [
      "The cube of pi to 6 decimal places is 3.100628e+01\n"
     ]
    }
   ],
   "source": [
    "print(f'The cube of pi to 6 decimal places is {np.pi**3:.6e}')"
   ]
  },
  {
   "cell_type": "markdown",
   "id": "94ce0aa3",
   "metadata": {},
   "source": [
    "## 6.1 Structure of f-strings"
   ]
  },
  {
   "cell_type": "markdown",
   "id": "f1adcfdf",
   "metadata": {},
   "source": [
    "structure of f-string formats: {X:>0.ZW}\n",
    "- X: variable to format\n",
    "- alignment E.g. < (left), > (right ), ^ (centre)\n",
    "- Y: total number of characters\n",
    "- Z: number of dedimal places\n",
    "- W: specifies type of variable E.g. f(float), d(int), s(str), g(asks python to figure it out)"
   ]
  },
  {
   "cell_type": "markdown",
   "id": "6ebaba5a",
   "metadata": {},
   "source": [
    "# 7 Escape sequences"
   ]
  },
  {
   "cell_type": "code",
   "execution_count": 20,
   "id": "72ad4531",
   "metadata": {},
   "outputs": [
    {
     "name": "stdout",
     "output_type": "stream",
     "text": [
      "Sandy Cheecks\n",
      "\tPlankton\n",
      "\t\tKaren\n"
     ]
    }
   ],
   "source": [
    "print('Sandy Cheecks\\n\\tPlankton\\n\\t\\tKaren')   #\\n new line"
   ]
  },
  {
   "cell_type": "code",
   "execution_count": 21,
   "id": "cc89a937",
   "metadata": {},
   "outputs": [
    {
     "name": "stdout",
     "output_type": "stream",
     "text": [
      "Absorbant and yellow and porous is he.\n"
     ]
    }
   ],
   "source": [
    "print('Absorbant and yellow and porous is he.')   #\\' is for a single quotation mark"
   ]
  },
  {
   "cell_type": "code",
   "execution_count": 31,
   "id": "39fe6015",
   "metadata": {},
   "outputs": [
    {
     "name": "stdout",
     "output_type": "stream",
     "text": [
      "A\\B\\C\n"
     ]
    }
   ],
   "source": [
    "print('A\\\\B\\\\C')    # backslash"
   ]
  },
  {
   "cell_type": "code",
   "execution_count": 32,
   "id": "57b819a0",
   "metadata": {},
   "outputs": [
    {
     "name": "stdout",
     "output_type": "stream",
     "text": [
      "A\n",
      "B\n",
      "C\n"
     ]
    }
   ],
   "source": [
    "print('A\\nB\\nC')  # newline"
   ]
  },
  {
   "cell_type": "code",
   "execution_count": 33,
   "id": "b1abe5d3",
   "metadata": {},
   "outputs": [
    {
     "name": "stdout",
     "output_type": "stream",
     "text": [
      "A\tB\tC\n"
     ]
    }
   ],
   "source": [
    "print('A\\tB\\tC')   # horizonal tab"
   ]
  },
  {
   "cell_type": "markdown",
   "id": "8d17b962",
   "metadata": {},
   "source": [
    "# 8 Computers read = from Right to Left!"
   ]
  },
  {
   "cell_type": "code",
   "execution_count": 34,
   "id": "076cdcc3",
   "metadata": {},
   "outputs": [
    {
     "name": "stdout",
     "output_type": "stream",
     "text": [
      "42\n"
     ]
    }
   ],
   "source": [
    "y = 40\n",
    "y = y + 2\n",
    "print(y)"
   ]
  },
  {
   "cell_type": "markdown",
   "id": "3407a380",
   "metadata": {},
   "source": [
    "# 9 Shorter and Cleaner Code"
   ]
  },
  {
   "cell_type": "code",
   "execution_count": 35,
   "id": "a9bfc810",
   "metadata": {},
   "outputs": [
    {
     "data": {
      "text/plain": [
       "42"
      ]
     },
     "execution_count": 35,
     "metadata": {},
     "output_type": "execute_result"
    }
   ],
   "source": [
    "y = 40\n",
    "y += 2\n",
    "y"
   ]
  },
  {
   "cell_type": "markdown",
   "id": "ba254d34",
   "metadata": {},
   "source": [
    "# 10 Python can be a prima-donna."
   ]
  },
  {
   "cell_type": "markdown",
   "id": "893ba629",
   "metadata": {},
   "source": [
    "Debugging is to fix errors in codes"
   ]
  },
  {
   "cell_type": "markdown",
   "id": "51a29a72",
   "metadata": {},
   "source": [
    "# 11 Best Practices for Scientific Computing"
   ]
  },
  {
   "cell_type": "markdown",
   "id": "0d4a5ee8",
   "metadata": {},
   "source": [
    "# 12 Looking for help"
   ]
  },
  {
   "cell_type": "code",
   "execution_count": 36,
   "id": "559a5dc9",
   "metadata": {},
   "outputs": [
    {
     "name": "stdout",
     "output_type": "stream",
     "text": [
      "Help on built-in function print in module builtins:\n",
      "\n",
      "print(*args, sep=' ', end='\\n', file=None, flush=False)\n",
      "    Prints the values to a stream, or to sys.stdout by default.\n",
      "    \n",
      "    sep\n",
      "      string inserted between values, default a space.\n",
      "    end\n",
      "      string appended after the last value, default a newline.\n",
      "    file\n",
      "      a file-like object (stream); defaults to the current sys.stdout.\n",
      "    flush\n",
      "      whether to forcibly flush the stream.\n",
      "\n"
     ]
    }
   ],
   "source": [
    "help(print)"
   ]
  },
  {
   "cell_type": "markdown",
   "id": "0f9e48cb",
   "metadata": {},
   "source": [
    "## References"
   ]
  },
  {
   "cell_type": "markdown",
   "id": "677daa5e",
   "metadata": {},
   "source": [
    "## Footnotes"
   ]
  }
 ],
 "metadata": {
  "kernelspec": {
   "display_name": "Python 3 (ipykernel)",
   "language": "python",
   "name": "python3"
  },
  "language_info": {
   "codemirror_mode": {
    "name": "ipython",
    "version": 3
   },
   "file_extension": ".py",
   "mimetype": "text/x-python",
   "name": "python",
   "nbconvert_exporter": "python",
   "pygments_lexer": "ipython3",
   "version": "3.11.5"
  },
  "toc": {
   "base_numbering": 1,
   "nav_menu": {},
   "number_sections": true,
   "sideBar": true,
   "skip_h1_title": false,
   "title_cell": "Table of Contents",
   "title_sidebar": "Contents",
   "toc_cell": false,
   "toc_position": {},
   "toc_section_display": true,
   "toc_window_display": false
  },
  "varInspector": {
   "cols": {
    "lenName": 16,
    "lenType": 16,
    "lenVar": 40
   },
   "kernels_config": {
    "python": {
     "delete_cmd_postfix": "",
     "delete_cmd_prefix": "del ",
     "library": "var_list.py",
     "varRefreshCmd": "print(var_dic_list())"
    },
    "r": {
     "delete_cmd_postfix": ") ",
     "delete_cmd_prefix": "rm(",
     "library": "var_list.r",
     "varRefreshCmd": "cat(var_dic_list()) "
    }
   },
   "types_to_exclude": [
    "module",
    "function",
    "builtin_function_or_method",
    "instance",
    "_Feature"
   ],
   "window_display": false
  },
  "vscode": {
   "interpreter": {
    "hash": "31f2aee4e71d21fbe5cf8b01ff0e069b9275f58929596ceb00d14d90e3e16cd6"
   }
  }
 },
 "nbformat": 4,
 "nbformat_minor": 5
}
