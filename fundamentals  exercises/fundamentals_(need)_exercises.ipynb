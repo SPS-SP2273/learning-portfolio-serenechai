{
 "cells": [
  {
   "cell_type": "markdown",
   "id": "123456",
   "metadata": {},
   "source": [
    "<div style=\"text-align:left;font-size:2em\"><span style=\"font-weight:bolder;font-size:1.25em\">SP2273 | Learning Portfolio</span><br><br><span style=\"font-weight:bold;color:darkred\">Fundamentals (Need) Exercises</span></div>"
   ]
  },
  {
   "cell_type": "markdown",
   "id": "9e750cca",
   "metadata": {},
   "source": [
    "### Exercise 1"
   ]
  },
  {
   "cell_type": "markdown",
   "id": "f68f9441",
   "metadata": {},
   "source": [
    "1. print function\n",
    "2. comments\n",
    "3. = assignment of values\n",
    "4. == checking if something is equal\n",
    "5. else, if \n",
    "6. listing data\n",
    "7. importing packages and using their functions"
   ]
  },
  {
   "cell_type": "markdown",
   "id": "ec4e1613",
   "metadata": {},
   "source": [
    "1. print function\n",
    "2. comments\n",
    "3. = assingment of values\n",
    "4. == verify if something is equal\n",
    "5. else, if \n",
    "6. listing data\n",
    "7. importing packages and using their functions\n",
    "\n",
    "_8. dictionary_\n",
    "_9. defining a function_"
   ]
  },
  {
   "cell_type": "markdown",
   "id": "9b497ffe",
   "metadata": {},
   "source": [
    "### Exercise 2"
   ]
  },
  {
   "cell_type": "code",
   "execution_count": 1,
   "id": "e6883af2",
   "metadata": {},
   "outputs": [
    {
     "name": "stdout",
     "output_type": "stream",
     "text": [
      "3 4 5\n"
     ]
    }
   ],
   "source": [
    "x=3\n",
    "y=4\n",
    "z= int(np.sqrt(x**2+ y**2))\n",
    "print (x,y,z)"
   ]
  },
  {
   "cell_type": "markdown",
   "id": "cbac57c1",
   "metadata": {},
   "source": [
    "### Exercise 3"
   ]
  },
  {
   "cell_type": "markdown",
   "id": "ae9cf708",
   "metadata": {},
   "source": [
    "| # | **Term** | **Description** |\n",
    "| :--- | :--- | :--- |\n",
    "| 1 | Function | A reusable block of code that performs tasks |\n",
    "| 2 | Arguments | A value that is passed to a function when it is called |\n",
    "| 3 | Comments | Annotations in the code that is ignored by the Python interpretor |\n",
    "| 4 | Indentations | Spaces or tabs to indicate lines of codes that belong in the same block |\n",
    "| 5 | Packages | To use more functions in python |\n",
    "| 6 | . | Indicates that a function belongs to a specific module |\n",
    "| 7 | : | Indicates the start of a new block of code |\n",
    "| 8 | [] | For lists of data |\n",
    "| 9 | [[[]]] | To create lists of lists of lists |\n",
    "| 10 | {} | To store data in a dictionary |"
   ]
  },
  {
   "cell_type": "markdown",
   "id": "11d12621",
   "metadata": {},
   "source": [
    "### Exercise 4"
   ]
  },
  {
   "cell_type": "code",
   "execution_count": 2,
   "id": "94d01aea",
   "metadata": {},
   "outputs": [
    {
     "data": {
      "text/plain": [
       "2.5"
      ]
     },
     "execution_count": 2,
     "metadata": {},
     "output_type": "execute_result"
    }
   ],
   "source": [
    "5/2 #floating point number division"
   ]
  },
  {
   "cell_type": "code",
   "execution_count": 3,
   "id": "c6a50de7",
   "metadata": {},
   "outputs": [
    {
     "data": {
      "text/plain": [
       "2"
      ]
     },
     "execution_count": 3,
     "metadata": {},
     "output_type": "execute_result"
    }
   ],
   "source": [
    "5//2 #integer division"
   ]
  },
  {
   "cell_type": "code",
   "execution_count": 4,
   "id": "3a2845cf",
   "metadata": {},
   "outputs": [
    {
     "data": {
      "text/plain": [
       "1"
      ]
     },
     "execution_count": 4,
     "metadata": {},
     "output_type": "execute_result"
    }
   ],
   "source": [
    "5%2 #modulo, gives the remainder of the division"
   ]
  }
 ],
 "metadata": {
  "kernelspec": {
   "display_name": "Python 3 (ipykernel)",
   "language": "python",
   "name": "python3"
  },
  "language_info": {
   "codemirror_mode": {
    "name": "ipython",
    "version": 3
   },
   "file_extension": ".py",
   "mimetype": "text/x-python",
   "name": "python",
   "nbconvert_exporter": "python",
   "pygments_lexer": "ipython3",
   "version": "3.11.5"
  },
  "toc": {
   "base_numbering": 1,
   "nav_menu": {},
   "number_sections": true,
   "sideBar": true,
   "skip_h1_title": false,
   "title_cell": "Table of Contents",
   "title_sidebar": "Contents",
   "toc_cell": false,
   "toc_position": {},
   "toc_section_display": true,
   "toc_window_display": false
  },
  "varInspector": {
   "cols": {
    "lenName": 16,
    "lenType": 16,
    "lenVar": 40
   },
   "kernels_config": {
    "python": {
     "delete_cmd_postfix": "",
     "delete_cmd_prefix": "del ",
     "library": "var_list.py",
     "varRefreshCmd": "print(var_dic_list())"
    },
    "r": {
     "delete_cmd_postfix": ") ",
     "delete_cmd_prefix": "rm(",
     "library": "var_list.r",
     "varRefreshCmd": "cat(var_dic_list()) "
    }
   },
   "types_to_exclude": [
    "module",
    "function",
    "builtin_function_or_method",
    "instance",
    "_Feature"
   ],
   "window_display": false
  },
  "vscode": {
   "interpreter": {
    "hash": "31f2aee4e71d21fbe5cf8b01ff0e069b9275f58929596ceb00d14d90e3e16cd6"
   }
  }
 },
 "nbformat": 4,
 "nbformat_minor": 5
}
