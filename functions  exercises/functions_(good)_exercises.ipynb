{
 "cells": [
  {
   "cell_type": "markdown",
   "id": "123456",
   "metadata": {},
   "source": [
    "<div style=\"text-align:left;font-size:2em\"><span style=\"font-weight:bolder;font-size:1.25em\">SP2273 | Learning Portfolio</span><br><br><span style=\"font-weight:bold;color:darkred\">Functions (Good) Exercises</span></div>"
   ]
  },
  {
   "cell_type": "markdown",
   "id": "582e42b6",
   "metadata": {},
   "source": [
    "#### Exercise 1"
   ]
  },
  {
   "cell_type": "code",
   "execution_count": 2,
   "id": "6d0ccaaf",
   "metadata": {},
   "outputs": [
    {
     "name": "stdout",
     "output_type": "stream",
     "text": [
      "20°C is equal to 68.0°F\n"
     ]
    }
   ],
   "source": [
    "def convert_celsius(celsius, target_scale='Fahrenheit'):\n",
    "    if target_scale == 'Fahrenheit':\n",
    "        fahrenheit = (celsius * 9/5) + 32\n",
    "        return fahrenheit\n",
    "    elif target_scale == 'Kelvin':\n",
    "        kelvin = celsius + 273.15\n",
    "        return kelvin\n",
    "    else:\n",
    "        return 'Invalid target scale. Select either \"Fahrenheit\" or \"Kelvin.\"'\n",
    "\n",
    "celsius_temperature = 20\n",
    "\n",
    "fahrenheit_result = convert_celsius(celsius_temperature)\n",
    "print(f'{celsius_temperature}°C is equal to {fahrenheit_result}°F')"
   ]
  },
  {
   "cell_type": "code",
   "execution_count": 3,
   "id": "67e63983",
   "metadata": {
    "scrolled": true
   },
   "outputs": [
    {
     "name": "stdout",
     "output_type": "stream",
     "text": [
      "20°C is equal to 293.15K\n"
     ]
    }
   ],
   "source": [
    "celsius_temp = 20\n",
    "target_string = 'Kelvin'\n",
    "\n",
    "kelvin_result = convert_celsius(celsius_temp, target_scale='Kelvin')\n",
    "print(f'{celsius_temperature}°C is equal to {kelvin_result}K')"
   ]
  },
  {
   "cell_type": "markdown",
   "id": "cca766c8",
   "metadata": {},
   "source": [
    "#### Exercise 2"
   ]
  },
  {
   "cell_type": "code",
   "execution_count": 4,
   "id": "cb7a8698",
   "metadata": {},
   "outputs": [
    {
     "name": "stdout",
     "output_type": "stream",
     "text": [
      "34°F is equal to 1.1111111111111112°C\n"
     ]
    }
   ],
   "source": [
    "def convert_fahrenheit(fahrenheit, target_scale='Celsius'):\n",
    "    if target_scale == 'Celsius':\n",
    "        celsius = (fahrenheit - 32) * 5/9\n",
    "        return celsius\n",
    "    elif target_scale == 'Kelvin':\n",
    "        kelvin = (fahrenheit - 32) * 5/9 + 273.15\n",
    "        return kelvin\n",
    "    else:\n",
    "        return 'Invalid target scale. Select either \"Celsius\" or \"Kelvin.\"'\n",
    "    \n",
    "fahrenheit_temp = 34\n",
    "\n",
    "celsius_temp = convert_fahrenheit(fahrenheit_temp)\n",
    "print(f'{fahrenheit_temp}°F is equal to {celsius_temp}°C')"
   ]
  },
  {
   "cell_type": "code",
   "execution_count": 5,
   "id": "fc04215e",
   "metadata": {},
   "outputs": [
    {
     "name": "stdout",
     "output_type": "stream",
     "text": [
      "120°F is equal to 322.0388888888889K\n"
     ]
    }
   ],
   "source": [
    "fahrenheit_t2 = 120\n",
    "target_string = 'Kelvin'\n",
    "\n",
    "kelvin_result = convert_fahrenheit(fahrenheit_t2, target_scale='Kelvin')\n",
    "print(f'{fahrenheit_t2}°F is equal to {kelvin_result}K')"
   ]
  },
  {
   "cell_type": "markdown",
   "id": "0ae5d88d",
   "metadata": {},
   "source": [
    "#### Exercise 3"
   ]
  },
  {
   "cell_type": "code",
   "execution_count": 6,
   "id": "dd8dbaf8",
   "metadata": {},
   "outputs": [
    {
     "name": "stdout",
     "output_type": "stream",
     "text": [
      "20°C is equal to 293.15K\n"
     ]
    }
   ],
   "source": [
    "def convert_temperature(temp, source_scale, target_scale):\n",
    "    if source_scale == 'Celsius':\n",
    "        if target_scale == 'Fahrenheit':\n",
    "            return convert_celsius(temp, target_scale)\n",
    "        elif target_scale == 'Kelvin':\n",
    "            return convert_celsius(temp, target_scale)\n",
    "        else:\n",
    "            return 'Invalid target scale. Select either \"Celsius\" or \"Kelvin.\"'\n",
    "    elif source_scale == 'Fahrenheit':\n",
    "        if target_scale == 'Celsius':\n",
    "            return convert_fahrenheit(temp, target_scale)\n",
    "        elif target_scale == 'Kelvin':\n",
    "            return convert_fahrenheit(temp, target_scale)\n",
    "        else:\n",
    "            return 'Invalid target scale. Select either \"Celsius\" or \"Kelvin.\"'\n",
    "    elif source_scale == ' Kelvin':\n",
    "        if target_scale == 'Celsius':\n",
    "            return temp - 273.15\n",
    "        elif target_scale == 'Fahrenheit':\n",
    "            return (temp - 273.15) * 9/5 + 32\n",
    "        else:\n",
    "            return 'Invalid target scale. Select either \"Celsius\" or \"Kelvin.\"'\n",
    "    else:\n",
    "        return 'Invalid source scale, select either \"Celsius\", \"Kelvin\", or \"Fahrenheit\".'\n",
    "    \n",
    "temp01 = 20\n",
    "source = 'Celsius'\n",
    "target = 'Kelvin'\n",
    "\n",
    "temp01_result = convert_temperature(temp01, source, target)\n",
    "print(f'{temp01}°C is equal to {temp01_result}K')"
   ]
  },
  {
   "cell_type": "code",
   "execution_count": 7,
   "id": "cdb4b6c2",
   "metadata": {},
   "outputs": [
    {
     "name": "stdout",
     "output_type": "stream",
     "text": [
      "129°F is equal to 327.0388888888889K\n"
     ]
    }
   ],
   "source": [
    "temp02 = 129\n",
    "source02 = 'Fahrenheit'\n",
    "target02 = 'Kelvin'\n",
    "\n",
    "temp02_r = convert_temperature(temp02, source02, target02)\n",
    "print(f'{temp02}°F is equal to {temp02_r}K')"
   ]
  }
 ],
 "metadata": {
  "kernelspec": {
   "display_name": "Python 3 (ipykernel)",
   "language": "python",
   "name": "python3"
  },
  "language_info": {
   "codemirror_mode": {
    "name": "ipython",
    "version": 3
   },
   "file_extension": ".py",
   "mimetype": "text/x-python",
   "name": "python",
   "nbconvert_exporter": "python",
   "pygments_lexer": "ipython3",
   "version": "3.11.5"
  },
  "toc": {
   "base_numbering": 1,
   "nav_menu": {},
   "number_sections": true,
   "sideBar": true,
   "skip_h1_title": false,
   "title_cell": "Table of Contents",
   "title_sidebar": "Contents",
   "toc_cell": false,
   "toc_position": {},
   "toc_section_display": true,
   "toc_window_display": false
  },
  "varInspector": {
   "cols": {
    "lenName": 16,
    "lenType": 16,
    "lenVar": 40
   },
   "kernels_config": {
    "python": {
     "delete_cmd_postfix": "",
     "delete_cmd_prefix": "del ",
     "library": "var_list.py",
     "varRefreshCmd": "print(var_dic_list())"
    },
    "r": {
     "delete_cmd_postfix": ") ",
     "delete_cmd_prefix": "rm(",
     "library": "var_list.r",
     "varRefreshCmd": "cat(var_dic_list()) "
    }
   },
   "types_to_exclude": [
    "module",
    "function",
    "builtin_function_or_method",
    "instance",
    "_Feature"
   ],
   "window_display": false
  },
  "vscode": {
   "interpreter": {
    "hash": "31f2aee4e71d21fbe5cf8b01ff0e069b9275f58929596ceb00d14d90e3e16cd6"
   }
  }
 },
 "nbformat": 4,
 "nbformat_minor": 5
}
